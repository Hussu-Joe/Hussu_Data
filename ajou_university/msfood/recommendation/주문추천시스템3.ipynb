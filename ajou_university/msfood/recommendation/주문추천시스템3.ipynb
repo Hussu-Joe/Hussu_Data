{
 "cells": [
  {
   "cell_type": "code",
   "execution_count": 2,
   "metadata": {},
   "outputs": [],
   "source": [
    "import pandas as pd\n",
    "import numpy as np\n",
    "import sklearn.metrics.pairwise as sk\n",
    "import scipy.spatial.distance as sc"
   ]
  },
  {
   "cell_type": "code",
   "execution_count": null,
   "metadata": {},
   "outputs": [],
   "source": []
  },
  {
   "cell_type": "code",
   "execution_count": null,
   "metadata": {},
   "outputs": [],
   "source": []
  },
  {
   "cell_type": "code",
   "execution_count": 3,
   "metadata": {},
   "outputs": [],
   "source": [
    "wgoods = pd.read_csv(\"./wgoods.csv\", sep=\";\", encoding=\"cp949\", index_col=\"Unnamed: 0\")\n",
    "leng  = pd.read_csv(\"./leng.csv\", sep=\";\", encoding=\"cp949\", index_col=\"Unnamed: 0\")\n",
    "corr = pd.read_csv(\"./corr.csv\", sep=\";\", encoding=\"cp949\", index_col=\"Unnamed: 0\")"
   ]
  },
  {
   "cell_type": "code",
   "execution_count": 4,
   "metadata": {
    "scrolled": true
   },
   "outputs": [
    {
     "data": {
      "text/plain": [
       "Index(['#공산품# 골뱅이(삼포)_400g', '#공산품# 락스 13kg', '#공산품# 볶은참깨(인도산) 1kg',\n",
       "       '#공산품# 봉지락교 1kg', '#공산품# 부탄가스 220g 4개입', '#공산품# 산고추 500g',\n",
       "       '#공산품# 쌀떡볶이떡 1.5kg', '#공산품# 아몬드슬라이스(껍질) 1kg', '#공산품# 일식슬라이스단무지 1kg',\n",
       "       '#공산품# 주방세제(알로하) 3kg', '#공산품# 초생강적 1kg', '#공산품# 치킨무 5kg',\n",
       "       '#공산품# 튀긴마늘슬라이스 500g', '#공산품# 피클슬라이스 3kg', '#공산품# 황도슬라이스 400g',\n",
       "       '#공산품# 후르츠칵테일 3.062kg', '#과자# 건빵 6.5kg', '#과자# 마카로니과자 2.4kg',\n",
       "       '#냉동# 냉동자숙대두(콩) 800g', '#냉동식품# 고기속깻잎튀김_1kg', '#냉동식품# 김치전_1.3kg',\n",
       "       '#냉동식품# 돼지김치찜_1kg', '#냉동식품# 돼지껍데기_300g', '#냉동식품# 모듬꼬치_360g',\n",
       "       '#냉동식품# 반쪽고추전튀김_1kg', '#냉동식품# 부추전_1.3kg', '#냉동식품# 불닭 400g',\n",
       "       '#냉동식품# 손질먹태 110g', '#냉동식품# 숯불무뼈닭발 250g', '#냉동식품# 오꼬노미야끼(해물)_350g',\n",
       "       '#냉동식품# 짬뽕소스+단호박면 (5ea=1pk)', '#냉동식품# 치킨텐더_1kg',\n",
       "       '#냉동식품# 크리스피치킨가라아게_1kg', '#냉동식품# 핫미들윙_1kg', '#냉동식품# 핫윙스틱_1kg',\n",
       "       '#냉동식품# 해물모듬 350g*32ea=box', '#냉동식품# 해물파전_1.3kg', '#냉동식품# 화이트호소통새우_1kg',\n",
       "       '#냉동식품,감자# 레귤러컷(울트라스킨온) 2kg', '#냉동식품,감자# 버팔로스틱 2.04kg',\n",
       "       '#냉동식품,감자# 사이드와인더 1.81kg', '#냉동식품,감자# 세이보리 3/8\" 스트레이트컷 2.26kg',\n",
       "       '#냉동식품,감자# 포테이토칩 2kg', '#냉동식품,닭# 닭모래집볶음 350g',\n",
       "       '#냉동식품,돈까스# 수제등심돈까스 1.08kg', '#냉동식품,면# 단호박칼국수면 230g*5ea=pk (팩 발주)'],\n",
       "      dtype='object')"
      ]
     },
     "execution_count": 4,
     "metadata": {},
     "output_type": "execute_result"
    }
   ],
   "source": [
    "wgoods.columns"
   ]
  },
  {
   "cell_type": "code",
   "execution_count": 5,
   "metadata": {},
   "outputs": [],
   "source": [
    "def CO(x):\n",
    "    a=pd.DataFrame({\"goods\": wgoods[wgoods.columns[x]],\"Correlation\":corr[wgoods.columns[x]],\"count\":leng[wgoods.columns[x]]}).dropna()\n",
    "    a= a.sort_values(\"Correlation\",ascending=False)\n",
    "    return(a)"
   ]
  },
  {
   "cell_type": "code",
   "execution_count": 6,
   "metadata": {},
   "outputs": [
    {
     "ename": "NameError",
     "evalue": "name 'a' is not defined",
     "output_type": "error",
     "traceback": [
      "\u001b[1;31m---------------------------------------------------------------------------\u001b[0m",
      "\u001b[1;31mNameError\u001b[0m                                 Traceback (most recent call last)",
      "\u001b[1;32m<ipython-input-6-3f786850e387>\u001b[0m in \u001b[0;36m<module>\u001b[1;34m()\u001b[0m\n\u001b[1;32m----> 1\u001b[1;33m \u001b[0ma\u001b[0m\u001b[1;33m\u001b[0m\u001b[0m\n\u001b[0m",
      "\u001b[1;31mNameError\u001b[0m: name 'a' is not defined"
     ]
    }
   ],
   "source": [
    "a"
   ]
  },
  {
   "cell_type": "code",
   "execution_count": null,
   "metadata": {},
   "outputs": [],
   "source": []
  }
 ],
 "metadata": {
  "kernelspec": {
   "display_name": "Python [conda env:env1]",
   "language": "python",
   "name": "conda-env-env1-py"
  },
  "language_info": {
   "codemirror_mode": {
    "name": "ipython",
    "version": 3
   },
   "file_extension": ".py",
   "mimetype": "text/x-python",
   "name": "python",
   "nbconvert_exporter": "python",
   "pygments_lexer": "ipython3",
   "version": "3.6.6"
  }
 },
 "nbformat": 4,
 "nbformat_minor": 2
}
