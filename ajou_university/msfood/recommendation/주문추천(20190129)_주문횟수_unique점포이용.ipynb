{
 "cells": [
  {
   "cell_type": "markdown",
   "metadata": {},
   "source": [
    "# 주문추천 로직"
   ]
  },
  {
   "cell_type": "markdown",
   "metadata": {},
   "source": [
    "## 필요한 패키지(Pandas, Numpy, Scikit-Learn 등)"
   ]
  },
  {
   "cell_type": "code",
   "execution_count": 1,
   "metadata": {},
   "source": [
    "import pandas as pd\n",
    "import numpy as np\n",
    "import matplotlib.pyplot as plt\n",
    "from sklearn.cluster import KMeans\n",
    "import seaborn as sns\n",
    "from sklearn.metrics import pairwise_distances\n",
    "from scipy.spatial.distance import cosine\n",
    "from matplotlib import font_manager, rc\n",
    "font_name = font_manager.FontProperties(fname=\"c:/Windows/Fonts/malgun.ttf\").get_name()\n",
    "rc('font', family=font_name)"
   ],
   "outputs": []
  },
  {
   "cell_type": "markdown",
   "metadata": {},
   "source": [
    "### 데이터를 불러오고, 작업에 방해가 되는 스트링 제거"
   ]
  },
  {
   "cell_type": "code",
   "execution_count": 4,
   "metadata": {},
   "source": [
    "df1 = pd.read_csv(\"./12월주문자료.CSV\",encoding=\"cp949\",engine=\"python\",sep=\";\")\n",
    "df1[\"주문횟수\"]=np.repeat(1,len(df1))\n",
    "ttt=  [x.replace(\"<\",\"\").replace(\">\",\"\") for x in df1.FC명]\n",
    "df1[\"FC명\"]=ttt"
   ],
   "outputs": []
  },
  {
   "cell_type": "markdown",
   "metadata": {},
   "source": [
    "### 주문횟수, Unique점포수를 사용한 클러스터링 시각화"
   ]
  },
  {
   "cell_type": "code",
   "execution_count": 65,
   "metadata": {},
   "source": [
    "for i in df1.FC명.unique():\n",
    "    df2 = df1[df1.FC명==i]\n",
    "    df3 = df2.pivot_table(index=\"매출처명\",columns=\"SKU명\",values=\"주문횟수\",aggfunc=np.sum)\n",
    "    df4 = pd.DataFrame(df3.sum())\n",
    "    df4.columns=[\"주문횟수\"]\n",
    "    unique점포 = []\n",
    "    for i2 in df3.columns:\n",
    "        aaa = df3[i2].dropna()\n",
    "        u1 = len(aaa)\n",
    "        unique점포 += [u1]\n",
    "    df4[\"unique점포\"] = unique점포\n",
    "    X=np.array(df4)\n",
    "    try:\n",
    "        model = KMeans(n_clusters=5,init=\"random\",n_init=1,max_iter=100).fit(X)\n",
    "        df4[\"cluster\"] = model.labels_\n",
    "        sns.catplot(x=\"unique점포\",y=\"주문횟수\",hue=\"cluster\",data=df4)\n",
    "        plt.ylabel(\"number of order\")\n",
    "        plt.xlabel(\"unique shops\")\n",
    "        plt.xticks(fontsize=8,rotation=45)\n",
    "        plt.title(\"orders, shops\"+\"(\"+i+\")\")\n",
    "        plt.savefig(\"./\"+i+\".png\",dpi=400)\n",
    "    except ValueError:\n",
    "        plt.plot(df4[\"unique점포\"],df4[\"주문횟수\"],\".\")\n",
    "        plt.ylabel(\"number of order\")\n",
    "        plt.xlabel(\"unique shops\")\n",
    "        plt.xticks(fontsize=8,rotation=45)\n",
    "        plt.title(\"orders, shops\"+\"(\"+i+\")\")\n",
    "        plt.savefig(\"./\"+i+\".png\",dpi=400)"
   ],
   "outputs": []
  },
  {
   "cell_type": "markdown",
   "metadata": {},
   "source": [
    "### FC별로 주문데이터를 나누고 Cossim 계산하여 새로운 DF을 생성"
   ]
  },
  {
   "cell_type": "code",
   "execution_count": 70,
   "metadata": {},
   "source": [
    "def make_df(x):\n",
    "    t11 = df1[df1.FC명==x]\n",
    "    t1 = t11.pivot_table(index=\"매출처명\",columns=\"SKU명\",values=\"주문횟수\",aggfunc=np.sum)\n",
    "    t2 = pd.DataFrame(t1.sum())\n",
    "    t2.columns = [\"주문횟수\"]\n",
    "    unique점포 = []\n",
    "    for i2 in t1.columns:\n",
    "        tt1 = t1[i2].dropna()\n",
    "        u1 = len(tt1)\n",
    "        unique점포 += [u1]\n",
    "    t2[\"unique점포\"] = unique점포\n",
    "    cosin1 = 1 - pairwise_distances(np.array(t2),metric = \"cosine\")\n",
    "    cosin_df = pd.DataFrame(cosin1)\n",
    "    cosin_df.columns = t2.index\n",
    "    cosin_df.index = t2.index\n",
    "    t3 = t11.loc[:,[\"SKU명\",\"소분류명\"]]\n",
    "    t3 = t3.drop_duplicates()\n",
    "    new_df = pd.DataFrame({\"a\":cosin_df.index,\"b\":cosin_df.iloc[:,0]})\n",
    "    new_df.columns = [\"SKU명\",\"Cossim\"]\n",
    "    new_df2 = ddd.merge(new_df,on = \"SKU명\", how = \"left\")\n",
    "    return(new_df2)"
   ],
   "outputs": []
  },
  {
   "cell_type": "markdown",
   "metadata": {},
   "source": [
    "### 같은 소분류, 다른 소분류에 대한 추천 DF의 함수"
   ]
  },
  {
   "cell_type": "code",
   "execution_count": 123,
   "metadata": {},
   "source": [
    "def rec(x, fc):\n",
    "    a = make_df(fc)\n",
    "    cat1 = a.소분류명[a.SKU명==x].unique()[0]\n",
    "    a = a[a.SKU명!=x]\n",
    "    cats = a[a.소분류명==cat1].sort_values(\"Cossim\",ascending=False)\n",
    "    catd = a[a.소분류명!=cat1].sort_values(\"Cossim\",ascending=False)\n",
    "    return(cats,catd)"
   ],
   "outputs": []
  },
  {
   "cell_type": "markdown",
   "metadata": {},
   "source": [
    "### s(ame) 과 d(ifferent)에 추천DF을 할당"
   ]
  },
  {
   "cell_type": "code",
   "execution_count": 127,
   "metadata": {
    "scrolled": true
   },
   "source": [
    "s,d=rec('(폴바셋)햄&에그 크로와상 샌드위치_160g/ea','매일유업_폴바셋')"
   ],
   "outputs": []
  },
  {
   "cell_type": "code",
   "execution_count": 128,
   "metadata": {},
   "source": [
    "s"
   ],
   "outputs": []
  },
  {
   "cell_type": "code",
   "execution_count": 129,
   "metadata": {},
   "source": [
    "d"
   ],
   "outputs": []
  }
 ],
 "metadata": {
  "kernelspec": {
   "display_name": "Python [conda env:env1]",
   "language": "python",
   "name": "conda-env-env1-py"
  },
  "language_info": {
   "codemirror_mode": {
    "name": "ipython",
    "version": 3
   },
   "file_extension": ".py",
   "mimetype": "text/x-python",
   "name": "python",
   "nbconvert_exporter": "python",
   "pygments_lexer": "ipython3",
   "version": "3.6.6"
  }
 },
 "nbformat": 4,
 "nbformat_minor": 2
}
