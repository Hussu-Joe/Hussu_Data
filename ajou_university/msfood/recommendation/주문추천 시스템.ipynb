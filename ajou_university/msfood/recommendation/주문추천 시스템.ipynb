{
 "cells": [
  {
   "cell_type": "code",
   "execution_count": 1,
   "metadata": {},
   "source": [
    "import cx_Oracle as cx\n",
    "import pandas as pd\n",
    "import numpy as np\n",
    "from sklearn.metrics import pairwise_distances"
   ],
   "outputs": []
  },
  {
   "cell_type": "code",
   "execution_count": 3,
   "metadata": {},
   "source": [
    "df1=pd.read_sql(sql=\"SELECT * FROM DM_IF_MECHMAS_R\",con=db)\n",
    "df1[\"JUMU_CUNT\"]=np.repeat(1,len(df1))"
   ],
   "outputs": []
  },
  {
   "cell_type": "code",
   "execution_count": 4,
   "metadata": {},
   "source": [
    "df1.columns"
   ],
   "outputs": []
  },
  {
   "cell_type": "code",
   "execution_count": 7,
   "metadata": {},
   "source": [
    "df1[\"CUST_SUMM\"].unique()"
   ],
   "outputs": []
  },
  {
   "cell_type": "code",
   "execution_count": 152,
   "metadata": {},
   "source": [
    "target = pd.read_sql(sql=\"SELECT * FROM DM_RCMDITEM\",con=db)"
   ],
   "outputs": []
  },
  {
   "cell_type": "code",
   "execution_count": 5,
   "metadata": {
    "scrolled": true
   },
   "source": [
    "len(df1)"
   ],
   "outputs": []
  },
  {
   "cell_type": "code",
   "execution_count": null,
   "metadata": {},
   "source": [
    "#cust_SUMM, "
   ],
   "outputs": []
  },
  {
   "cell_type": "code",
   "execution_count": 99,
   "metadata": {},
   "source": [
    "def rec(df):\n",
    "    df11 = df.pivot_table(index=\"CUST_CODE\", columns = \"ITEM_CODE\", values=\"JUMU_CUNT\",aggfunc=np.sum)\n",
    "    UNIQ_CUST = []\n",
    "    for i in df11.columns:\n",
    "        df12 = df11[i].dropna()\n",
    "        uniq1 = len(df12)\n",
    "        UNIQ_CUST += [uniq1]\n",
    "    df22 = pd.DataFrame(df11.sum())\n",
    "    df22[\"UNIQ_CUST\"]=UNIQ_CUST\n",
    "    ITEM_DIST = pairwise_distances(np.array(df22), metric = 'euclidean')\n",
    "    ITEM_DIST = pd.DataFrame(ITEM_DIST)\n",
    "    ITEM_DIST.columns = df22.index\n",
    "    ITEM_DIST.index = df22.index\n",
    "    return(ITEM_DIST)"
   ],
   "outputs": []
  },
  {
   "cell_type": "code",
   "execution_count": 159,
   "metadata": {},
   "source": [
    "aaa = rec(df1)"
   ],
   "outputs": []
  },
  {
   "cell_type": "code",
   "execution_count": null,
   "metadata": {},
   "source": [],
   "outputs": []
  },
  {
   "cell_type": "code",
   "execution_count": 101,
   "metadata": {},
   "source": [
    "df33 = df1.loc[:,[\"ITEM_CODE\",\"PART_CODE\"]]\n",
    "df33 = df33.drop_duplicates()"
   ],
   "outputs": []
  },
  {
   "cell_type": "code",
   "execution_count": 131,
   "metadata": {},
   "source": [
    "def update(item):\n",
    "    df44 = pd.DataFrame({\"a\":aaa[item].index,\"b\":aaa[item]})\n",
    "    df44.columns = [\"ITEM_CODE\", \"RCMD_VLUE\"]\n",
    "    df55 = df33.merge(df44, on=\"ITEM_CODE\",how = \"left\")\n",
    "    df55 = df55[df55[\"ITEM_CODE\"]!=item]\n",
    "    cat = df33.PART_CODE[df33[\"ITEM_CODE\"]==item].unique()[0]\n",
    "    cats = df55[df55.PART_CODE==cat].sort_values(\"RCMD_VLUE\",ascending =True)[:20]\n",
    "    cats[\"RCMD_GUBN\"]=np.repeat(1,len(cats))\n",
    "    catd = df55[df55.PART_CODE!=cat].sort_values(\"RCMD_VLUE\",ascending =True)[:20]\n",
    "    catd[\"RCMD_GUBN\"]=np.repeat(2,len(catd))\n",
    "    newdf = cats.append(catd)\n",
    "    newdf.columns=[\"RCMD_ITEM\",\"PART_CODE\",\"RCMD_VLUE\",\"RCMD_GUBN\"]\n",
    "    newdf[\"ITEM_CODE\"]=np.repeat(item,len(newdf))\n",
    "    return(newdf)"
   ],
   "outputs": []
  },
  {
   "cell_type": "code",
   "execution_count": 161,
   "metadata": {},
   "source": [
    "abc=pd.DataFrame({\"RCMD_ITEM\":[],\"PART_CODE\":[],\"RCMD_VLUE\":[],\"RCMD_GUBN\":[],\"ITEM_CODE\":[]})"
   ],
   "outputs": []
  },
  {
   "cell_type": "code",
   "execution_count": 162,
   "metadata": {},
   "source": [
    "for i3 in aaa.columns:\n",
    "    ddd = update(i3)\n",
    "    abc= abc.append(ddd)"
   ],
   "outputs": []
  },
  {
   "cell_type": "code",
   "execution_count": 164,
   "metadata": {},
   "source": [
    "abc"
   ],
   "outputs": []
  },
  {
   "cell_type": "code",
   "execution_count": 157,
   "metadata": {},
   "source": [
    "update('100033')"
   ],
   "outputs": []
  }
 ],
 "metadata": {
  "kernelspec": {
   "display_name": "Python [default]",
   "language": "python",
   "name": "python3"
  },
  "language_info": {
   "codemirror_mode": {
    "name": "ipython",
    "version": 3
   },
   "file_extension": ".py",
   "mimetype": "text/x-python",
   "name": "python",
   "nbconvert_exporter": "python",
   "pygments_lexer": "ipython3",
   "version": "3.6.6"
  }
 },
 "nbformat": 4,
 "nbformat_minor": 2
}
