{
 "cells": [
  {
   "metadata": {},
   "cell_type": "markdown",
   "source": "# plotly로 작성했던 코드 정리",
   "id": "bd77961f1dbbd39e"
  },
  {
   "metadata": {},
   "cell_type": "markdown",
   "source": "## 19년도 5월과 20년도 5월의 지역별 발전시간을 바 그래프로 그려주는 코드",
   "id": "44408d37ba1686dc"
  },
  {
   "cell_type": "code",
   "execution_count": null,
   "id": "initial_id",
   "metadata": {
    "collapsed": true
   },
   "outputs": [],
   "source": [
    "\n",
    "fig  = go.Figure()\n",
    "\n",
    "\n",
    "\n",
    "fig.add_trace(go.Bar(\n",
    "    y=may2019_rn2.지역구분,\n",
    "    x=may2019_rn2.rn,\n",
    "    name = \"2019년 5월\",\n",
    "    marker_color=\"#62CEDB\",\n",
    "    orientation='h'))\n",
    "\n",
    "fig.add_trace(go.Bar(\n",
    "    y=may2020_rn2.지역구분,\n",
    "    x=may2020_rn2.rn,\n",
    "    name = \"2020년 5월\",\n",
    "    marker_color=\"#F11524\",\n",
    "    orientation='h'))\n",
    "\n",
    "\n",
    "\n",
    "fig.update_layout(barmode='group',yaxis={'categoryorder':'array','categoryarray':['충청북도','충청남도','제주도','전라북도',\n",
    "                                                                                  '전라남도','경상북도','경상남도','경기도',\n",
    "                                                                                  '강원도']})\n",
    "fig.update_layout(title_text =\"2019년 5월 강수량(mm/시) VS 2020년 5월 강수량(mm/시)\")"
   ]
  },
  {
   "metadata": {},
   "cell_type": "markdown",
   "source": "## 간단한 라인그래프",
   "id": "1e51b64750bdbda1"
  },
  {
   "metadata": {},
   "cell_type": "code",
   "outputs": [],
   "execution_count": null,
   "source": [
    "fig = px.line(x=\"dt\",y=\"gen_hour\",data_frame=new_hourly[(new_hourly.base_date<=\"2021-01-12\")&(new_hourly.base_date>=\"2021-01-06\")],color=\"plant_id\",width=1000)\n",
    "fig.update_layout()"
   ],
   "id": "9dadbff6f09ba743"
  },
  {
   "metadata": {},
   "cell_type": "code",
   "outputs": [],
   "execution_count": null,
   "source": [
    "# 마커를 추가하고 그 위에 숫자를 넣는 그래프\n",
    "fig = px.line(data_frame=pv2, x=\"월\",y=\"일평균 발전시간\",color=\"년도\",title=\"2019년, 2020년 발전시간 트렌드\",text=\"일평균 발전시간\")\n",
    "fig.update_traces(textposition='top center')"
   ],
   "id": "f6901b8487292a36"
  },
  {
   "metadata": {},
   "cell_type": "markdown",
   "source": "## 장마와 폭염 비교, 지역별 그래프",
   "id": "2bac0ca3fe0ba178"
  },
  {
   "metadata": {},
   "cell_type": "code",
   "outputs": [],
   "execution_count": null,
   "source": [
    "fig  = go.Figure()\n",
    "\n",
    "fig.add_trace(go.Bar(\n",
    "    y=glh_sido_mean_폭염[\"지역구분\"],\n",
    "    x=np.round(glh_sido_mean_폭염[\"avg_pv_time\"],2),\n",
    "    name = \"폭염\",\n",
    "    marker_color=\"#62CEDB\",\n",
    "    orientation='h'))\n",
    "\n",
    "fig.add_trace(go.Bar(\n",
    "    y=glh_sido_mean_장마[\"지역구분\"],\n",
    "    x=np.round(glh_sido_mean_장마[\"avg_pv_time\"],2),\n",
    "    name = \"장마\",\n",
    "    marker_color=\"#F11524\",\n",
    "    orientation='h'))\n",
    "fig.update_layout(title_text =\"장마 VS 폭염\")"
   ],
   "id": "96b209ea0ca8308f"
  },
  {
   "metadata": {},
   "cell_type": "markdown",
   "source": "## 박스플롯 예시",
   "id": "822ddbf9155f1d53"
  },
  {
   "metadata": {},
   "cell_type": "code",
   "outputs": [],
   "execution_count": null,
   "source": "fig= px.box(x='new_category',y='avg_pv_time',animation_frame=\"month\",color=\"지역구분\",data_frame=gen_log_monthly)",
   "id": "1408f2d9dc04971a"
  },
  {
   "metadata": {},
   "cell_type": "markdown",
   "source": "## PCAF, ACF 그래프 예시",
   "id": "3b481f83213200fc"
  },
  {
   "metadata": {},
   "cell_type": "code",
   "outputs": [],
   "execution_count": null,
   "source": "",
   "id": "2e5217c5dbb8458"
  },
  {
   "metadata": {},
   "cell_type": "code",
   "outputs": [],
   "execution_count": null,
   "source": [
    "\n",
    "fig = plt.figure(figsize=(10, 10))\n",
    "ax1 = fig.add_subplot(2, 1, 1)\n",
    "ax2 = fig.add_subplot(2, 1, 2)\n",
    "\n",
    "sgt.plot_acf(df['HV4_1_pptot'], lags=20, zero=False, ax=ax1)\n",
    "ax1.set_title(\"ACF HV4_1_pptot\")\n",
    "\n",
    "sgt.plot_pacf(df['HV4_1_pptot'], lags=20, zero=False, method=('ols'), ax=ax2)\n",
    "ax2.set_title(\"PACF HV4_1_pptot\")"
   ],
   "id": "91341ef08cd35f2a"
  },
  {
   "metadata": {},
   "cell_type": "markdown",
   "source": "## distplot 이용 분포그래프",
   "id": "49510cdbfc1402a"
  },
  {
   "metadata": {},
   "cell_type": "code",
   "outputs": [],
   "execution_count": null,
   "source": [
    "fig = ff.create_distplot([glm_8_rent_sample.avg_pv_time,glm_8_pv_sample.avg_pv_time], ['대여사업','발전사업'], bin_size=.2)\n",
    "fig.show()"
   ],
   "id": "acbeaca3d90e7466"
  },
  {
   "metadata": {},
   "cell_type": "markdown",
   "source": "## 다중 시계열 그리기",
   "id": "e0121e0fb0ee72ce"
  },
  {
   "metadata": {},
   "cell_type": "code",
   "outputs": [],
   "execution_count": null,
   "source": [
    "# 전체그림\n",
    "fig = go.Figure(go.Line(x=df.날짜시간,y=df.계측값,name='계측값'))\n",
    "fig.add_trace(go.Line(x=df.날짜시간,y=df.예측값_오전,name='예측값_오전'))\n",
    "fig.add_trace(go.Line(x=df.날짜시간,y=df.예측값_오후,name='예측값_오후'))\n",
    "fig.update_layout(title=dict(\n",
    "    # <br> 태크와 <sup>태그 사용해서 서브 타이틀을 작성할 수 있음\n",
    "    text='계측값과 예측값의 비교',\n",
    "    x=0.5,\n",
    "    y=0.87,\n",
    "    font=dict(\n",
    "        family=\"Arial\",\n",
    "        size=25,\n",
    "        color=\"#000000\"\n",
    "    )\n",
    "))"
   ],
   "id": "4a5378998acdbaec"
  },
  {
   "metadata": {},
   "cell_type": "markdown",
   "source": "## 일평균강수량 시계열 데이터",
   "id": "536d05865626b13d"
  },
  {
   "metadata": {},
   "cell_type": "code",
   "outputs": [],
   "execution_count": null,
   "source": [
    "fig1 = px.line(cli4,x=\"날짜\",y=\"일평균강수량(mm/일)\",title=\"전국 일평균강수량(mm/일)\")\n",
    "fig1.update_traces(mode=\"markers+lines\")"
   ],
   "id": "ee52d19f0ff91097"
  },
  {
   "metadata": {},
   "cell_type": "markdown",
   "source": "## 각 지역별로 색깔을 다르게 그린 바 그래프, 바 제일 위에 수치가 써져있음",
   "id": "ad2935444a5ed90"
  },
  {
   "metadata": {},
   "cell_type": "code",
   "outputs": [],
   "execution_count": null,
   "source": [
    "fig = px.bar(zzzzzz,x=\"지역구분\",y=\"일평균 발전시간\",color=\"지역구분\",text=\"일평균 발전시간\")\n",
    "fig.update_layout(title=\"상반기(1~8월) 전국/지역별 일평균발전시간\")\n",
    "fig.update_yaxes(range=[3.5,4.5])"
   ],
   "id": "58af1cf0921faa68"
  },
  {
   "metadata": {},
   "cell_type": "markdown",
   "source": "## 다이어그램",
   "id": "2cb60606686737d9"
  },
  {
   "metadata": {},
   "cell_type": "code",
   "outputs": [],
   "execution_count": null,
   "source": [
    "from diagrams import Diagram\n",
    "from diagrams.aws.compute import EC2\n",
    "from diagrams.aws.database import RDS\n",
    "from diagrams.aws.network import ELB\n",
    "\n",
    "with Diagram(\"Web Service\", show=False):\n",
    "    ELB(\"lb\") >> EC2(\"web\") >> RDS(\"userdb\")"
   ],
   "id": "bf91f8fca84b5812"
  },
  {
   "metadata": {},
   "cell_type": "markdown",
   "source": "## 실제값 예측값 그래프",
   "id": "59c0208be7fd3030"
  },
  {
   "metadata": {},
   "cell_type": "code",
   "outputs": [],
   "execution_count": null,
   "source": [
    "fig = go.Figure()\n",
    "fig.add_trace(go.Scatter(x=df2.index, y=df2.real,\n",
    "                         mode='lines',\n",
    "                         name='real'))\n",
    "fig.add_trace(go.Scatter(x=df2.index, y=df2.pred,\n",
    "                         mode='lines',\n",
    "                         name='pred'))\n",
    "fig.show()"
   ],
   "id": "6cd5e3b0f609551c"
  }
 ],
 "metadata": {
  "kernelspec": {
   "display_name": "Python 3",
   "language": "python",
   "name": "python3"
  },
  "language_info": {
   "codemirror_mode": {
    "name": "ipython",
    "version": 2
   },
   "file_extension": ".py",
   "mimetype": "text/x-python",
   "name": "python",
   "nbconvert_exporter": "python",
   "pygments_lexer": "ipython2",
   "version": "2.7.6"
  }
 },
 "nbformat": 4,
 "nbformat_minor": 5
}
